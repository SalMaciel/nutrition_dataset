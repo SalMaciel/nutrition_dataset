{
 "cells": [
  {
   "cell_type": "code",
   "execution_count": 1,
   "id": "c4ec0c87",
   "metadata": {},
   "outputs": [],
   "source": [
    "import pandas as pd\n",
    "import numpy as np\n",
    "import os"
   ]
  },
  {
   "cell_type": "code",
   "execution_count": 8,
   "id": "6a71e9c3",
   "metadata": {},
   "outputs": [],
   "source": [
    "def read_txt_then_return(file_name):\n",
    "    file_name.lower()\n",
    "    file_name_txt = file_name + '.txt'\n",
    "    \n",
    "    data_path = os.path.join('data', file_name_txt)\n",
    "    df = pd.read_csv(data_path, sep = \"^\", header = None, encoding = \"ISO-8859-1\", dtype = \"object\", low_memory = False)\n",
    "\n",
    "    for rows in df:\n",
    "        df[rows] = df[rows].str.replace(\"~\",\"\")\n",
    "        \n",
    "    # df = df.replace(r'^\\s*$', np.nan, regex = True)\n",
    "\n",
    "    if file_name == 'food_des':\n",
    "        df.columns = ['NDB_No','FdGrp_cd','Long_Desc','Shrt_Desc','ComName','ManufacName','Survey','Ref_desc','Refuse','SciName','N_Factor','Pro_Factor','Fat_Factor','CHO_Factor']\n",
    "    \n",
    "    elif file_name == 'fd_group':\n",
    "        df.columns = ['FdGrp_Cd','FdGrp_Desc']\n",
    "    \n",
    "    elif file_name == 'langual':\n",
    "        df.columns = ['NDB_No','Factor_Code']\n",
    "    \n",
    "    elif file_name == 'langdesc':\n",
    "        df.columns = ['Factor_Code','Description']\n",
    "    \n",
    "    elif file_name == 'nut_data':\n",
    "        df.columns = ['NDB_No','Nutr_no','Nutr_Val','Num_Data_Pts','Std_Error','Src_Cd','Deriv_Cd','Ref_NDB_No','Add_Nutr_Mark','Num_Studies','Min','Max','DF','Low_EB','Up_EB','Stat_cmt','AddMod_Date']\n",
    "    \n",
    "    elif file_name == 'nutr_def':\n",
    "        df.columns = ['Nutr_no','Units','Tagname','NutrDesc','Num_Dec','SR_Order']\n",
    "    \n",
    "    elif file_name == 'src_cd':\n",
    "        df.columns = ['Src_Cd','SrcCd_Desc']\n",
    "    \n",
    "    elif file_name == 'deriv_cd':\n",
    "        df.columns = ['Deriv_Cd','Deriv_Desc']\n",
    "    \n",
    "    elif file_name == 'weight':\n",
    "        df.columns = ['NDB_No','Seq','Amount','Msre_Desc','Gm_Wgt','Num_Data_Pts','Std_Dev']\n",
    "    \n",
    "    elif file_name == 'footnote':\n",
    "        df.columns = ['NDB_No','Footnt_No','Footnt_Typ','Nutr_No','Footnt_Txt']\n",
    "    \n",
    "    elif file_name == 'datsrcln':\n",
    "        df.columns = ['NDB_No','Nutr_No','DataSrc_ID']\n",
    "    \n",
    "    elif file_name == 'data_src':\n",
    "        df.columns = ['DataSrc_ID','Authors','Title','Year','Journal','Vol_City','Issue_State','Start_Page','End_Page']\n",
    "    \n",
    "    csv_file = file_name + '.csv'\n",
    "    csv_path = os.path.join('csv', csv_file)\n",
    "    df.to_csv(csv_path, index = False, na_rep = np.nan)"
   ]
  },
  {
   "cell_type": "code",
   "execution_count": 9,
   "id": "77c6a13d",
   "metadata": {},
   "outputs": [],
   "source": [
    "read_txt_then_return('weight')\n",
    "read_txt_then_return('food_des')\n",
    "read_txt_then_return('fd_group')\n",
    "read_txt_then_return('langual')\n",
    "read_txt_then_return('langdesc')\n",
    "read_txt_then_return('nutr_def')\n",
    "read_txt_then_return('src_cd')\n",
    "read_txt_then_return('deriv_cd')\n",
    "read_txt_then_return('footnote')\n",
    "read_txt_then_return('datsrcln')\n",
    "read_txt_then_return('data_src')\n",
    "read_txt_then_return('nut_data')"
   ]
  },
  {
   "cell_type": "code",
   "execution_count": null,
   "id": "b918db84",
   "metadata": {},
   "outputs": [],
   "source": []
  }
 ],
 "metadata": {
  "kernelspec": {
   "display_name": "Python 3 (ipykernel)",
   "language": "python",
   "name": "python3"
  },
  "language_info": {
   "codemirror_mode": {
    "name": "ipython",
    "version": 3
   },
   "file_extension": ".py",
   "mimetype": "text/x-python",
   "name": "python",
   "nbconvert_exporter": "python",
   "pygments_lexer": "ipython3",
   "version": "3.9.13"
  }
 },
 "nbformat": 4,
 "nbformat_minor": 5
}
